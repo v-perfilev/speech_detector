{
 "cells": [
  {
   "cell_type": "code",
   "execution_count": null,
   "id": "initial_id",
   "metadata": {
    "collapsed": true
   },
   "outputs": [],
   "source": [
    "import os.path\n",
    "\n",
    "from core.audio_dataset import AudioDataset\n",
    "from core.file_handler import FileHandler"
   ]
  },
  {
   "cell_type": "code",
   "outputs": [],
   "source": [
    "speech_path = os.path.abspath('../datasets/speech')\n",
    "sounds_path = os.path.abspath('../datasets/sounds')\n",
    "noises_path = os.path.abspath('../datasets/noises')\n",
    "\n",
    "count = 200"
   ],
   "metadata": {
    "collapsed": false
   },
   "id": "624aa7fd7db0f9f",
   "execution_count": null
  },
  {
   "cell_type": "code",
   "outputs": [],
   "source": [
    "file_handler = FileHandler()\n",
    "\n",
    "speech_files = file_handler.get_file_paths([speech_path], 'mp3', limit=count)\n",
    "sound_files = (file_handler.get_file_paths([sounds_path], 'wav', limit=100)\n",
    "               + file_handler.get_file_paths([noises_path], 'wav'))"
   ],
   "metadata": {
    "collapsed": false
   },
   "id": "bc5a327fcd870d5a",
   "execution_count": null
  },
  {
   "cell_type": "code",
   "outputs": [],
   "source": [
    "dataset = AudioDataset(speech_files, sound_files)\n",
    "dataset.save('dataset.pt')\n",
    "\n",
    "print(\"Dataset created and saved\")"
   ],
   "metadata": {
    "collapsed": false
   },
   "id": "a59cdead232f1d6",
   "execution_count": null
  }
 ],
 "metadata": {
  "kernelspec": {
   "display_name": "Python 3",
   "language": "python",
   "name": "python3"
  },
  "language_info": {
   "codemirror_mode": {
    "name": "ipython",
    "version": 2
   },
   "file_extension": ".py",
   "mimetype": "text/x-python",
   "name": "python",
   "nbconvert_exporter": "python",
   "pygments_lexer": "ipython2",
   "version": "2.7.6"
  }
 },
 "nbformat": 4,
 "nbformat_minor": 5
}
