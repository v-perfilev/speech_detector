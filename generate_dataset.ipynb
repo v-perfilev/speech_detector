{
 "cells": [
  {
   "cell_type": "code",
   "execution_count": null,
   "id": "initial_id",
   "metadata": {
    "collapsed": true
   },
   "outputs": [],
   "source": [
    "import os.path\n",
    "\n",
    "from core.detector_factory import DetectorFactory"
   ]
  },
  {
   "cell_type": "code",
   "outputs": [],
   "source": [
    "speech_path = os.path.abspath('../datasets/speech')\n",
    "sounds_path = os.path.abspath('../datasets/sounds')\n",
    "noises_path = os.path.abspath('../datasets/noises')\n",
    "\n",
    "positive_paths = [speech_path]\n",
    "negative_paths = [sounds_path, noises_path]\n",
    "\n",
    "is_spectrum_model = False\n",
    "positive_count = 10_000\n",
    "negative_count = 10_000\n",
    "\n",
    "factory = DetectorFactory(is_spectrum_model=is_spectrum_model)"
   ],
   "metadata": {
    "collapsed": false
   },
   "id": "624aa7fd7db0f9f",
   "execution_count": null
  },
  {
   "cell_type": "code",
   "outputs": [],
   "source": [
    "mediator = factory.create_mediator()\n",
    "\n",
    "dataset = mediator.create_dataset(positive_paths, 'mp3', positive_count, negative_paths, 'wav', negative_count)\n",
    "mediator.save_dataset(dataset)\n",
    "\n",
    "print(\"Dataset created and saved\")"
   ],
   "metadata": {
    "collapsed": false
   },
   "id": "a59cdead232f1d6",
   "execution_count": null
  }
 ],
 "metadata": {
  "kernelspec": {
   "display_name": "Python 3",
   "language": "python",
   "name": "python3"
  },
  "language_info": {
   "codemirror_mode": {
    "name": "ipython",
    "version": 2
   },
   "file_extension": ".py",
   "mimetype": "text/x-python",
   "name": "python",
   "nbconvert_exporter": "python",
   "pygments_lexer": "ipython2",
   "version": "2.7.6"
  }
 },
 "nbformat": 4,
 "nbformat_minor": 5
}
