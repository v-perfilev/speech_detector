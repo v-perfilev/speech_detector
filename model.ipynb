{
 "cells": [
  {
   "cell_type": "code",
   "outputs": [],
   "source": [
    "import os.path\n",
    "\n",
    "import torch\n",
    "import torch.optim as optim\n",
    "from torch import nn\n",
    "\n",
    "from core.dataset_handler import DatasetHandler\n",
    "from core.sound_classifier import SoundClassifier"
   ],
   "metadata": {
    "collapsed": false,
    "ExecuteTime": {
     "end_time": "2024-02-15T11:00:32.213142Z",
     "start_time": "2024-02-15T11:00:30.883792Z"
    }
   },
   "id": "initial_id",
   "execution_count": 1
  },
  {
   "cell_type": "code",
   "outputs": [
    {
     "name": "stdout",
     "output_type": "stream",
     "text": [
      "Processed 1000 speech samples with background sounds.\n",
      "Processed 1000 speech samples without background sounds.\n",
      "Processed 1000 environmental sound samples.\n",
      "Finished Data Preparation\n"
     ]
    }
   ],
   "source": [
    "speech_path = os.path.abspath('../datasets/speech')\n",
    "sounds_path = os.path.abspath('../datasets/sounds')\n",
    "\n",
    "dataset_handler = DatasetHandler()\n",
    "dataset_handler.set_speech_params(speech_path, 'mp3', 250)\n",
    "dataset_handler.set_sounds_params(sounds_path, 'wav', 100)\n",
    "dataset_handler.set_target_spectrogram_shape((64, 128))\n",
    "dataset_handler.set_batch_size(32)\n",
    "train_loader, test_loader = dataset_handler.read_datasets()\n",
    "\n",
    "print('Finished Data Preparation')"
   ],
   "metadata": {
    "collapsed": false,
    "ExecuteTime": {
     "end_time": "2024-02-15T11:04:45.938235Z",
     "start_time": "2024-02-15T11:00:32.214288Z"
    }
   },
   "id": "1756fe47adeb254",
   "execution_count": 2
  },
  {
   "cell_type": "code",
   "outputs": [
    {
     "name": "stdout",
     "output_type": "stream",
     "text": [
      "Epoch 1, Loss: 0.10294275305544337\n",
      "Epoch 2, Loss: 0.0859392684896011\n",
      "Epoch 3, Loss: 0.06447867205987375\n",
      "Epoch 4, Loss: 0.0757234081812203\n",
      "Epoch 5, Loss: 0.06080119969633718\n",
      "Epoch 6, Loss: 0.06324945238942746\n",
      "Epoch 7, Loss: 0.059974186098358286\n",
      "Epoch 8, Loss: 0.05269342844820737\n",
      "Epoch 9, Loss: 0.05859625888677935\n",
      "Epoch 10, Loss: 0.0512810198799707\n",
      "Epoch 11, Loss: 0.04574579782007883\n",
      "Epoch 12, Loss: 0.04821821768845742\n",
      "Epoch 13, Loss: 0.04356157996458933\n",
      "Epoch 14, Loss: 0.047396373535351206\n",
      "Epoch 15, Loss: 0.046754635632193335\n",
      "Epoch 16, Loss: 0.04557840727890531\n",
      "Epoch 17, Loss: 0.042627858206008874\n",
      "Epoch 18, Loss: 0.040384229809666675\n",
      "Epoch 19, Loss: 0.04228926615323871\n",
      "Epoch 20, Loss: 0.040983844405661024\n",
      "Epoch 21, Loss: 0.03712891456166593\n",
      "Epoch 22, Loss: 0.04673700354081423\n",
      "Epoch 23, Loss: 0.04506859319439779\n",
      "Epoch 24, Loss: 0.03879142104958495\n",
      "Epoch 25, Loss: 0.03961212448620548\n",
      "Epoch 26, Loss: 0.03877459025476128\n",
      "Epoch 27, Loss: 0.04246601503381195\n",
      "Epoch 28, Loss: 0.039224385543105506\n",
      "Epoch 29, Loss: 0.040796728379403555\n",
      "Epoch 30, Loss: 0.042596554946309574\n",
      "Finished Training\n"
     ]
    }
   ],
   "source": [
    "model = SoundClassifier(64 * 128)\n",
    "criterion = nn.CrossEntropyLoss()\n",
    "optimizer = optim.Adam(model.parameters(), lr=0.001, weight_decay=1e-6)\n",
    "\n",
    "for epoch in range(30):\n",
    "    running_loss = 0.0\n",
    "    for i, data in enumerate(train_loader, 0):\n",
    "        inputs, labels = data\n",
    "\n",
    "        optimizer.zero_grad()\n",
    "\n",
    "        outputs = model(inputs)\n",
    "        loss = criterion(outputs, labels)\n",
    "        loss.backward()\n",
    "        optimizer.step()\n",
    "\n",
    "        running_loss += loss.item()\n",
    "    print(f\"Epoch {epoch + 1}, Loss: {running_loss / len(train_loader)}\")\n",
    "\n",
    "print('Finished Training')"
   ],
   "metadata": {
    "collapsed": false,
    "ExecuteTime": {
     "end_time": "2024-02-15T11:11:45.841142Z",
     "start_time": "2024-02-15T11:08:18.950042Z"
    }
   },
   "id": "1d45a2e12fb66ba4",
   "execution_count": 5
  },
  {
   "cell_type": "code",
   "outputs": [
    {
     "name": "stdout",
     "output_type": "stream",
     "text": [
      "Accuracy of the network on test files: 98 %\n"
     ]
    }
   ],
   "source": [
    "correct = 0\n",
    "total = 0\n",
    "with torch.no_grad():\n",
    "    for data in test_loader:\n",
    "        inputs, labels = data\n",
    "        outputs = model(inputs)\n",
    "        _, predicted = torch.max(outputs.data, 1)\n",
    "        total += labels.size(0)\n",
    "        correct += (predicted == labels).sum().item()\n",
    "\n",
    "print(f'Accuracy of the network on test files: {100 * correct // total} %')"
   ],
   "metadata": {
    "collapsed": false,
    "ExecuteTime": {
     "end_time": "2024-02-15T11:11:46.431073Z",
     "start_time": "2024-02-15T11:11:45.842625Z"
    }
   },
   "id": "1242fa2236dbf4b5",
   "execution_count": 6
  },
  {
   "cell_type": "code",
   "outputs": [
    {
     "name": "stdout",
     "output_type": "stream",
     "text": [
      "Model saved\n"
     ]
    }
   ],
   "source": [
    "torch.save(model.state_dict(), 'sound_classifier_weights.pth')\n",
    "print('Model saved')"
   ],
   "metadata": {
    "collapsed": false,
    "ExecuteTime": {
     "end_time": "2024-02-15T11:40:31.520572Z",
     "start_time": "2024-02-15T11:40:31.504641Z"
    }
   },
   "id": "613bf3d9bea29717",
   "execution_count": 7
  },
  {
   "cell_type": "code",
   "outputs": [],
   "source": [],
   "metadata": {
    "collapsed": false
   },
   "id": "a81e5dcaee9faa5e"
  }
 ],
 "metadata": {
  "kernelspec": {
   "display_name": "Python 3",
   "language": "python",
   "name": "python3"
  },
  "language_info": {
   "codemirror_mode": {
    "name": "ipython",
    "version": 2
   },
   "file_extension": ".py",
   "mimetype": "text/x-python",
   "name": "python",
   "nbconvert_exporter": "python",
   "pygments_lexer": "ipython2",
   "version": "2.7.6"
  }
 },
 "nbformat": 4,
 "nbformat_minor": 5
}
