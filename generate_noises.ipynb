{
 "cells": [
  {
   "cell_type": "code",
   "execution_count": 1,
   "id": "initial_id",
   "metadata": {
    "collapsed": true,
    "ExecuteTime": {
     "end_time": "2024-02-16T14:08:19.401203Z",
     "start_time": "2024-02-16T14:08:19.383547Z"
    }
   },
   "outputs": [],
   "source": [
    "import os\n",
    "import random\n",
    "\n",
    "from pydub import AudioSegment\n",
    "from pydub.generators import WhiteNoise"
   ]
  },
  {
   "cell_type": "code",
   "outputs": [],
   "source": [
    "output_dir = os.path.abspath(\"../datasets/noises\")\n",
    "os.makedirs(output_dir, exist_ok=True)\n",
    "num_samples = 50\n",
    "duration_ms = 3000"
   ],
   "metadata": {
    "collapsed": false,
    "ExecuteTime": {
     "end_time": "2024-02-16T14:08:19.406917Z",
     "start_time": "2024-02-16T14:08:19.402044Z"
    }
   },
   "id": "10bb367800951209",
   "execution_count": 2
  },
  {
   "cell_type": "code",
   "outputs": [],
   "source": [
    "for i in range(num_samples):\n",
    "    noise_level = random.randint(-30, -10)\n",
    "    noise = WhiteNoise().to_audio_segment(duration=duration_ms).apply_gain(noise_level)\n",
    "    noise.export(f\"{output_dir}/white_noise_{i + 1}.wav\", format=\"wav\")"
   ],
   "metadata": {
    "collapsed": false,
    "ExecuteTime": {
     "end_time": "2024-02-16T14:08:20.465154Z",
     "start_time": "2024-02-16T14:08:19.422564Z"
    }
   },
   "id": "8ba17c19f3b77a96",
   "execution_count": 3
  },
  {
   "cell_type": "code",
   "outputs": [],
   "source": [
    "for i in range(num_samples):\n",
    "    noise_level = random.randint(-30, -10)\n",
    "    silence = AudioSegment.silent(duration=duration_ms)\n",
    "    silence.export(f\"{output_dir}/silence_{i + 1}.wav\", format=\"wav\")"
   ],
   "metadata": {
    "collapsed": false,
    "ExecuteTime": {
     "end_time": "2024-02-16T14:08:20.489005Z",
     "start_time": "2024-02-16T14:08:20.465726Z"
    }
   },
   "id": "16d1d77c5b9bee92",
   "execution_count": 4
  }
 ],
 "metadata": {
  "kernelspec": {
   "display_name": "Python 3",
   "language": "python",
   "name": "python3"
  },
  "language_info": {
   "codemirror_mode": {
    "name": "ipython",
    "version": 2
   },
   "file_extension": ".py",
   "mimetype": "text/x-python",
   "name": "python",
   "nbconvert_exporter": "python",
   "pygments_lexer": "ipython2",
   "version": "2.7.6"
  }
 },
 "nbformat": 4,
 "nbformat_minor": 5
}
